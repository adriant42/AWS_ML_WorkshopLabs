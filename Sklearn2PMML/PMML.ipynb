{
 "cells": [
  {
   "cell_type": "markdown",
   "metadata": {},
   "source": [
    "### 1. Install Dependencies "
   ]
  },
  {
   "cell_type": "code",
   "execution_count": null,
   "metadata": {},
   "outputs": [],
   "source": [
    "!java -version"
   ]
  },
  {
   "cell_type": "code",
   "execution_count": null,
   "metadata": {},
   "outputs": [],
   "source": [
    "!sudo yum install -y java-1.8.0\n",
    "!sudo yum remove -y java-1.7.0-openjdk"
   ]
  },
  {
   "cell_type": "code",
   "execution_count": null,
   "metadata": {},
   "outputs": [],
   "source": [
    "!java -version"
   ]
  },
  {
   "cell_type": "code",
   "execution_count": null,
   "metadata": {},
   "outputs": [],
   "source": [
    "!pip install pypmml\n",
    "!pip install sklearn2pmml"
   ]
  },
  {
   "cell_type": "markdown",
   "metadata": {},
   "source": [
    "### 2. Imports"
   ]
  },
  {
   "cell_type": "code",
   "execution_count": 1,
   "metadata": {},
   "outputs": [],
   "source": [
    "from sklearn.ensemble import RandomForestClassifier\n",
    "from sklearn2pmml.pipeline import PMMLPipeline\n",
    "from sklearn_pandas import DataFrameMapper\n",
    "from sklearn.impute import SimpleImputer\n",
    "from sklearn2pmml import sklearn2pmml\n",
    "from pypmml import Model\n",
    "import pandas\n",
    "import numpy"
   ]
  },
  {
   "cell_type": "markdown",
   "metadata": {},
   "source": [
    "### 3. Load & Prep Data"
   ]
  },
  {
   "cell_type": "code",
   "execution_count": 2,
   "metadata": {},
   "outputs": [],
   "source": [
    "churn_data = pandas.read_csv(\"sample.csv\")"
   ]
  },
  {
   "cell_type": "code",
   "execution_count": 3,
   "metadata": {},
   "outputs": [
    {
     "data": {
      "text/html": [
       "<div>\n",
       "<style scoped>\n",
       "    .dataframe tbody tr th:only-of-type {\n",
       "        vertical-align: middle;\n",
       "    }\n",
       "\n",
       "    .dataframe tbody tr th {\n",
       "        vertical-align: top;\n",
       "    }\n",
       "\n",
       "    .dataframe thead th {\n",
       "        text-align: right;\n",
       "    }\n",
       "</style>\n",
       "<table border=\"1\" class=\"dataframe\">\n",
       "  <thead>\n",
       "    <tr style=\"text-align: right;\">\n",
       "      <th></th>\n",
       "      <th>CustomerID</th>\n",
       "      <th>CLVSegment</th>\n",
       "      <th>Gender</th>\n",
       "      <th>Age</th>\n",
       "      <th>ResBiz</th>\n",
       "      <th>Optout</th>\n",
       "      <th>CreditStatus</th>\n",
       "      <th>SalesChannel</th>\n",
       "      <th>ContractDuration</th>\n",
       "      <th>ContractEndMonths</th>\n",
       "      <th>ZipDemographHouseOther</th>\n",
       "      <th>ZipDemographHouseRenter</th>\n",
       "      <th>ZipDemographHouseOwner</th>\n",
       "      <th>ZipDemographAvgAge</th>\n",
       "      <th>AvgCallsIn</th>\n",
       "      <th>AvgTxtsIn</th>\n",
       "      <th>AvgCallsOut</th>\n",
       "      <th>ZipCode</th>\n",
       "      <th>ReferenceModel</th>\n",
       "      <th>Churn</th>\n",
       "    </tr>\n",
       "  </thead>\n",
       "  <tbody>\n",
       "    <tr>\n",
       "      <th>0</th>\n",
       "      <td>CE-2334791</td>\n",
       "      <td>LARGE</td>\n",
       "      <td>M</td>\n",
       "      <td>25</td>\n",
       "      <td>N</td>\n",
       "      <td>N</td>\n",
       "      <td>N</td>\n",
       "      <td>THIRD PARTY SALES CHANNEL</td>\n",
       "      <td>NaN</td>\n",
       "      <td>3.0</td>\n",
       "      <td>1.0</td>\n",
       "      <td>37.0</td>\n",
       "      <td>62.0</td>\n",
       "      <td>49.5</td>\n",
       "      <td>210.000000</td>\n",
       "      <td>30.333333</td>\n",
       "      <td>395.000000</td>\n",
       "      <td>89107.0</td>\n",
       "      <td>0.233302</td>\n",
       "      <td>Y</td>\n",
       "    </tr>\n",
       "    <tr>\n",
       "      <th>1</th>\n",
       "      <td>CE-4374827</td>\n",
       "      <td>SMALL</td>\n",
       "      <td>F</td>\n",
       "      <td>25</td>\n",
       "      <td>N</td>\n",
       "      <td>N</td>\n",
       "      <td>N</td>\n",
       "      <td>THIRD PARTY SALES CHANNEL</td>\n",
       "      <td>12.0</td>\n",
       "      <td>3.0</td>\n",
       "      <td>1.0</td>\n",
       "      <td>45.0</td>\n",
       "      <td>54.0</td>\n",
       "      <td>44.4</td>\n",
       "      <td>44.666667</td>\n",
       "      <td>0.000000</td>\n",
       "      <td>106.333333</td>\n",
       "      <td>30694.0</td>\n",
       "      <td>0.540289</td>\n",
       "      <td>Y</td>\n",
       "    </tr>\n",
       "    <tr>\n",
       "      <th>2</th>\n",
       "      <td>CE-5126719</td>\n",
       "      <td>LARGE</td>\n",
       "      <td>M</td>\n",
       "      <td>23</td>\n",
       "      <td>N</td>\n",
       "      <td>N</td>\n",
       "      <td>N</td>\n",
       "      <td>THIRD PARTY SALES CHANNEL</td>\n",
       "      <td>12.0</td>\n",
       "      <td>3.0</td>\n",
       "      <td>0.0</td>\n",
       "      <td>0.0</td>\n",
       "      <td>100.0</td>\n",
       "      <td>48.1</td>\n",
       "      <td>65.666667</td>\n",
       "      <td>0.000000</td>\n",
       "      <td>104.333333</td>\n",
       "      <td>43664.0</td>\n",
       "      <td>0.115220</td>\n",
       "      <td>Yes</td>\n",
       "    </tr>\n",
       "    <tr>\n",
       "      <th>3</th>\n",
       "      <td>CE-2874904</td>\n",
       "      <td>LARGE</td>\n",
       "      <td>F</td>\n",
       "      <td>22</td>\n",
       "      <td>N</td>\n",
       "      <td>N</td>\n",
       "      <td>N</td>\n",
       "      <td>THIRD PARTY SALES CHANNEL</td>\n",
       "      <td>12.0</td>\n",
       "      <td>3.0</td>\n",
       "      <td>0.0</td>\n",
       "      <td>83.0</td>\n",
       "      <td>17.0</td>\n",
       "      <td>44.1</td>\n",
       "      <td>33.666667</td>\n",
       "      <td>31.000000</td>\n",
       "      <td>46.333333</td>\n",
       "      <td>29840.0</td>\n",
       "      <td>0.626136</td>\n",
       "      <td>No</td>\n",
       "    </tr>\n",
       "    <tr>\n",
       "      <th>4</th>\n",
       "      <td>CE-2090451</td>\n",
       "      <td>LARGE</td>\n",
       "      <td>F</td>\n",
       "      <td>31</td>\n",
       "      <td>N</td>\n",
       "      <td>N</td>\n",
       "      <td>N</td>\n",
       "      <td>THIRD PARTY SALES CHANNEL</td>\n",
       "      <td>12.0</td>\n",
       "      <td>3.0</td>\n",
       "      <td>1.0</td>\n",
       "      <td>23.0</td>\n",
       "      <td>76.0</td>\n",
       "      <td>51.8</td>\n",
       "      <td>38.666667</td>\n",
       "      <td>15.333333</td>\n",
       "      <td>88.333333</td>\n",
       "      <td>9413.0</td>\n",
       "      <td>0.660848</td>\n",
       "      <td>No</td>\n",
       "    </tr>\n",
       "  </tbody>\n",
       "</table>\n",
       "</div>"
      ],
      "text/plain": [
       "   CustomerID CLVSegment Gender  Age ResBiz Optout CreditStatus  \\\n",
       "0  CE-2334791      LARGE      M   25      N      N            N   \n",
       "1  CE-4374827      SMALL      F   25      N      N            N   \n",
       "2  CE-5126719      LARGE      M   23      N      N            N   \n",
       "3  CE-2874904      LARGE      F   22      N      N            N   \n",
       "4  CE-2090451      LARGE      F   31      N      N            N   \n",
       "\n",
       "                SalesChannel  ContractDuration  ContractEndMonths  \\\n",
       "0  THIRD PARTY SALES CHANNEL               NaN                3.0   \n",
       "1  THIRD PARTY SALES CHANNEL              12.0                3.0   \n",
       "2  THIRD PARTY SALES CHANNEL              12.0                3.0   \n",
       "3  THIRD PARTY SALES CHANNEL              12.0                3.0   \n",
       "4  THIRD PARTY SALES CHANNEL              12.0                3.0   \n",
       "\n",
       "   ZipDemographHouseOther  ZipDemographHouseRenter  ZipDemographHouseOwner  \\\n",
       "0                     1.0                     37.0                    62.0   \n",
       "1                     1.0                     45.0                    54.0   \n",
       "2                     0.0                      0.0                   100.0   \n",
       "3                     0.0                     83.0                    17.0   \n",
       "4                     1.0                     23.0                    76.0   \n",
       "\n",
       "   ZipDemographAvgAge  AvgCallsIn  AvgTxtsIn  AvgCallsOut  ZipCode  \\\n",
       "0                49.5  210.000000  30.333333   395.000000  89107.0   \n",
       "1                44.4   44.666667   0.000000   106.333333  30694.0   \n",
       "2                48.1   65.666667   0.000000   104.333333  43664.0   \n",
       "3                44.1   33.666667  31.000000    46.333333  29840.0   \n",
       "4                51.8   38.666667  15.333333    88.333333   9413.0   \n",
       "\n",
       "   ReferenceModel Churn  \n",
       "0        0.233302     Y  \n",
       "1        0.540289     Y  \n",
       "2        0.115220   Yes  \n",
       "3        0.626136    No  \n",
       "4        0.660848    No  "
      ]
     },
     "execution_count": 3,
     "metadata": {},
     "output_type": "execute_result"
    }
   ],
   "source": [
    "churn_data.head()"
   ]
  },
  {
   "cell_type": "code",
   "execution_count": 4,
   "metadata": {},
   "outputs": [],
   "source": [
    "X = churn_data[[\"Age\", \"AvgCallsOut\"]]"
   ]
  },
  {
   "cell_type": "code",
   "execution_count": 5,
   "metadata": {},
   "outputs": [
    {
     "data": {
      "text/html": [
       "<div>\n",
       "<style scoped>\n",
       "    .dataframe tbody tr th:only-of-type {\n",
       "        vertical-align: middle;\n",
       "    }\n",
       "\n",
       "    .dataframe tbody tr th {\n",
       "        vertical-align: top;\n",
       "    }\n",
       "\n",
       "    .dataframe thead th {\n",
       "        text-align: right;\n",
       "    }\n",
       "</style>\n",
       "<table border=\"1\" class=\"dataframe\">\n",
       "  <thead>\n",
       "    <tr style=\"text-align: right;\">\n",
       "      <th></th>\n",
       "      <th>Age</th>\n",
       "      <th>AvgCallsOut</th>\n",
       "    </tr>\n",
       "  </thead>\n",
       "  <tbody>\n",
       "    <tr>\n",
       "      <th>0</th>\n",
       "      <td>25</td>\n",
       "      <td>395.000000</td>\n",
       "    </tr>\n",
       "    <tr>\n",
       "      <th>1</th>\n",
       "      <td>25</td>\n",
       "      <td>106.333333</td>\n",
       "    </tr>\n",
       "    <tr>\n",
       "      <th>2</th>\n",
       "      <td>23</td>\n",
       "      <td>104.333333</td>\n",
       "    </tr>\n",
       "    <tr>\n",
       "      <th>3</th>\n",
       "      <td>22</td>\n",
       "      <td>46.333333</td>\n",
       "    </tr>\n",
       "    <tr>\n",
       "      <th>4</th>\n",
       "      <td>31</td>\n",
       "      <td>88.333333</td>\n",
       "    </tr>\n",
       "  </tbody>\n",
       "</table>\n",
       "</div>"
      ],
      "text/plain": [
       "   Age  AvgCallsOut\n",
       "0   25   395.000000\n",
       "1   25   106.333333\n",
       "2   23   104.333333\n",
       "3   22    46.333333\n",
       "4   31    88.333333"
      ]
     },
     "execution_count": 5,
     "metadata": {},
     "output_type": "execute_result"
    }
   ],
   "source": [
    "X.head()"
   ]
  },
  {
   "cell_type": "code",
   "execution_count": 6,
   "metadata": {},
   "outputs": [
    {
     "data": {
      "text/plain": [
       "0    Churned\n",
       "1    Churned\n",
       "2    Churned\n",
       "3      Loyal\n",
       "4      Loyal\n",
       "Name: Churn, dtype: object"
      ]
     },
     "execution_count": 6,
     "metadata": {},
     "output_type": "execute_result"
    }
   ],
   "source": [
    "# Map the multiple values of the Churn field\n",
    "y = churn_data[\"Churn\"].map(lambda x: (\"Churned\", \"Loyal\")[x.startswith(\"N\")])\n",
    "y.head()"
   ]
  },
  {
   "cell_type": "markdown",
   "metadata": {},
   "source": [
    "### 4. Create a PMML Pipeline"
   ]
  },
  {
   "cell_type": "code",
   "execution_count": 7,
   "metadata": {},
   "outputs": [],
   "source": [
    "# Create a preprocessing mapper to replace missing values with median\n",
    "preprocessing_mapper = DataFrameMapper([([\"Age\", \"AvgCallsOut\"], \n",
    "                                         [SimpleImputer(missing_values=numpy.nan, strategy='median')])])"
   ]
  },
  {
   "cell_type": "code",
   "execution_count": 8,
   "metadata": {},
   "outputs": [],
   "source": [
    "# Create a random forest classifier\n",
    "churn_classifier = RandomForestClassifier(n_estimators=20)"
   ]
  },
  {
   "cell_type": "code",
   "execution_count": 9,
   "metadata": {},
   "outputs": [
    {
     "name": "stderr",
     "output_type": "stream",
     "text": [
      "/home/ec2-user/anaconda3/envs/python3/lib/python3.6/site-packages/sklearn/base.py:213: FutureWarning: From version 0.24, get_params will raise an AttributeError if a parameter cannot be retrieved as an instance attribute. Previously it would return None.\n",
      "  FutureWarning)\n"
     ]
    }
   ],
   "source": [
    "# Create a PMML pipeline with the preprocessing and \n",
    "pipeline = PMMLPipeline([(\"PRE-PROCESS\", preprocessing_mapper), ('MODEL-TRAIN', churn_classifier)])"
   ]
  },
  {
   "cell_type": "code",
   "execution_count": 10,
   "metadata": {},
   "outputs": [
    {
     "name": "stderr",
     "output_type": "stream",
     "text": [
      "/home/ec2-user/anaconda3/envs/python3/lib/python3.6/site-packages/sklearn/base.py:213: FutureWarning: From version 0.24, get_params will raise an AttributeError if a parameter cannot be retrieved as an instance attribute. Previously it would return None.\n",
      "  FutureWarning)\n"
     ]
    },
    {
     "data": {
      "text/plain": [
       "PMMLPipeline(steps=[('PRE-PROCESS', DataFrameMapper(features=[(['Age', 'AvgCallsOut'],\n",
       "                           [SimpleImputer(strategy='median')])])),\n",
       "       ('MODEL-TRAIN', RandomForestClassifier(n_estimators=20))])"
      ]
     },
     "execution_count": 10,
     "metadata": {},
     "output_type": "execute_result"
    }
   ],
   "source": [
    "# Fit the model\n",
    "pipeline.fit(X, y)"
   ]
  },
  {
   "cell_type": "markdown",
   "metadata": {},
   "source": [
    "### 5. Save Model"
   ]
  },
  {
   "cell_type": "code",
   "execution_count": 11,
   "metadata": {},
   "outputs": [],
   "source": [
    "sklearn2pmml(pipeline, \"churn_sklearn.pmml\", with_repr = True)"
   ]
  },
  {
   "cell_type": "markdown",
   "metadata": {},
   "source": [
    "### 6. Load PMML as Sklearn Model"
   ]
  },
  {
   "cell_type": "code",
   "execution_count": 12,
   "metadata": {},
   "outputs": [],
   "source": [
    "model = Model.load('churn_sklearn.pmml')"
   ]
  },
  {
   "cell_type": "code",
   "execution_count": 13,
   "metadata": {},
   "outputs": [
    {
     "data": {
      "text/plain": [
       "['Age', 'AvgCallsOut']"
      ]
     },
     "execution_count": 13,
     "metadata": {},
     "output_type": "execute_result"
    }
   ],
   "source": [
    "model.inputNames"
   ]
  },
  {
   "cell_type": "code",
   "execution_count": 14,
   "metadata": {},
   "outputs": [
    {
     "data": {
      "text/plain": [
       "['probability(Churned)', 'probability(Loyal)']"
      ]
     },
     "execution_count": 14,
     "metadata": {},
     "output_type": "execute_result"
    }
   ],
   "source": [
    "model.outputNames"
   ]
  },
  {
   "cell_type": "code",
   "execution_count": 15,
   "metadata": {},
   "outputs": [
    {
     "data": {
      "text/plain": [
       "[0.85, 0.15]"
      ]
     },
     "execution_count": 15,
     "metadata": {},
     "output_type": "execute_result"
    }
   ],
   "source": [
    "model.predict([25, 395])"
   ]
  },
  {
   "cell_type": "code",
   "execution_count": null,
   "metadata": {},
   "outputs": [],
   "source": []
  }
 ],
 "metadata": {
  "kernelspec": {
   "display_name": "conda_python3",
   "language": "python",
   "name": "conda_python3"
  },
  "language_info": {
   "codemirror_mode": {
    "name": "ipython",
    "version": 3
   },
   "file_extension": ".py",
   "mimetype": "text/x-python",
   "name": "python",
   "nbconvert_exporter": "python",
   "pygments_lexer": "ipython3",
   "version": "3.6.10"
  }
 },
 "nbformat": 4,
 "nbformat_minor": 4
}
